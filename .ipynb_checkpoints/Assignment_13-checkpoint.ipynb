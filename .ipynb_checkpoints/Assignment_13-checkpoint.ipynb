{
 "cells": [
  {
   "cell_type": "code",
   "execution_count": 1,
   "id": "077b624c",
   "metadata": {},
   "outputs": [],
   "source": [
    "from collections import namedtuple\n",
    "from datetime import datetime"
   ]
  },
  {
   "cell_type": "code",
   "execution_count": 2,
   "id": "5513ed99",
   "metadata": {},
   "outputs": [],
   "source": [
    "def type_cast(data_type, value):\n",
    "    \"\"\"\n",
    "    type_cast converts the data into respective datatypes\n",
    "    \"\"\"\n",
    "    if data_type == 'INT':\n",
    "        return int(value)\n",
    "    elif data_type =='DATE':\n",
    "        return datetime.strptime(value,'%m/%d/%Y').date()\n",
    "    else:\n",
    "        return str(value)"
   ]
  },
  {
   "cell_type": "code",
   "execution_count": 3,
   "id": "072f3003",
   "metadata": {},
   "outputs": [],
   "source": [
    "data_types = ['INT', 'STRING', 'STRING', 'STRING', 'DATE', 'INT', 'STRING', 'STRING', 'STRING']\n",
    "\n",
    "def type_cast_row(data_types: 'list', data_row:'iterable'):\n",
    "    \"\"\"\n",
    "    type_cast_row convert elements of each data_row into respective data types \n",
    "    \"\"\"\n",
    "    return [type_cast(type_, value) \n",
    "            for type_, value in zip(data_types, data_row)]"
   ]
  },
  {
   "cell_type": "code",
   "execution_count": 4,
   "id": "58d0b5a7",
   "metadata": {},
   "outputs": [],
   "source": [
    "file = 'nyc_parking_tickets_extract.csv'\n",
    "\n",
    "def read_cars(file):\n",
    "    \"\"\"\n",
    "    This function takes a file as input and generates an generator object.\n",
    "    this generator object returns a namedtuple\n",
    "    \"\"\"\n",
    "    with open(file) as files:\n",
    "        file_iter = iter(files)\n",
    "        headers = next(file_iter).strip('\\n').split(',')\n",
    "        header = [string.replace(\" \",\"_\") for string in headers]\n",
    "        Car = namedtuple('Car', header)\n",
    "        for line in file_iter:\n",
    "            data = line.strip('\\n').split(',')\n",
    "            data = type_cast_row(data_types, data)\n",
    "            car = Car(*data)\n",
    "            yield car"
   ]
  },
  {
   "cell_type": "code",
   "execution_count": 5,
   "id": "6b2cbb0e",
   "metadata": {},
   "outputs": [],
   "source": [
    "obj = read_cars(file)"
   ]
  },
  {
   "cell_type": "code",
   "execution_count": 6,
   "id": "74f80017",
   "metadata": {},
   "outputs": [
    {
     "data": {
      "text/plain": [
       "Car(Summons_Number=4006478550, Plate_ID='VAD7274', Registration_State='VA', Plate_Type='PAS', Issue_Date=datetime.date(2016, 10, 5), Violation_Code=5, Vehicle_Body_Type='4D', Vehicle_Make='BMW', Violation_Description='BUS LANE VIOLATION')"
      ]
     },
     "execution_count": 6,
     "metadata": {},
     "output_type": "execute_result"
    }
   ],
   "source": [
    "#calling one object at a time\n",
    "next(obj)"
   ]
  },
  {
   "cell_type": "code",
   "execution_count": 7,
   "id": "4c209596",
   "metadata": {},
   "outputs": [],
   "source": [
    "# TO PRINT ENTIRE FILE\n",
    "#for object in obj:\n",
    "    #print(object)"
   ]
  },
  {
   "cell_type": "code",
   "execution_count": 8,
   "id": "c3d5a4ef",
   "metadata": {},
   "outputs": [],
   "source": [
    "gen = read_cars(file)\n",
    "def count_violations(generator):\n",
    "    \"\"\"\n",
    "    this function returns a dictionary which contains the count of\n",
    "    violations by each car_make\n",
    "    \"\"\"\n",
    "    violations = {}\n",
    "    for cars in generator:\n",
    "        if len(cars.Violation_Description) > 0:\n",
    "            if cars.Vehicle_Make in list(violations.keys()):\n",
    "                violations[cars.Vehicle_Make] += 1\n",
    "            else:\n",
    "                violations[cars.Vehicle_Make] = 1\n",
    "\n",
    "    return violations"
   ]
  },
  {
   "cell_type": "code",
   "execution_count": 9,
   "id": "ae62136e",
   "metadata": {},
   "outputs": [
    {
     "data": {
      "text/plain": [
       "{'BMW': 32,\n",
       " 'CHEVR': 66,\n",
       " 'DODGE': 43,\n",
       " 'FORD': 98,\n",
       " 'FRUEH': 38,\n",
       " 'HONDA': 94,\n",
       " 'LINCO': 11,\n",
       " 'TOYOT': 100,\n",
       " 'CADIL': 9,\n",
       " 'CHRYS': 11,\n",
       " 'FIR': 1,\n",
       " 'GMC': 33,\n",
       " 'HYUND': 32,\n",
       " 'JAGUA': 3,\n",
       " 'JEEP': 21,\n",
       " 'LEXUS': 25,\n",
       " 'ME/BE': 36,\n",
       " 'MERCU': 4,\n",
       " 'MITSU': 8,\n",
       " 'NISSA': 59,\n",
       " 'HIN': 6,\n",
       " 'NS/OT': 18,\n",
       " 'WORKH': 2,\n",
       " 'ACURA': 12,\n",
       " 'AUDI': 12,\n",
       " 'INTER': 23,\n",
       " 'ISUZU': 9,\n",
       " 'KENWO': 5,\n",
       " 'KIA': 7,\n",
       " 'OLDSM': 1,\n",
       " 'SUBAR': 17,\n",
       " 'VOLVO': 11,\n",
       " 'SATUR': 1,\n",
       " 'SMART': 3,\n",
       " 'INFIN': 13,\n",
       " 'PETER': 1,\n",
       " 'CITRO': 1,\n",
       " 'ROVER': 5,\n",
       " 'BUICK': 4,\n",
       " 'GEO': 1,\n",
       " 'MAZDA': 5,\n",
       " 'PORSC': 3,\n",
       " 'VOLKS': 7,\n",
       " 'YAMAH': 1,\n",
       " 'BSA': 1,\n",
       " 'MINI': 1,\n",
       " 'PONTI': 1,\n",
       " 'SPRI': 1,\n",
       " 'PLYMO': 1,\n",
       " 'SCION': 2,\n",
       " 'UPS': 1,\n",
       " 'UD': 1,\n",
       " '': 1,\n",
       " 'SAAB': 2,\n",
       " 'HINO': 2,\n",
       " 'STAR': 1,\n",
       " 'AM/T': 1,\n",
       " 'MI/F': 1}"
      ]
     },
     "execution_count": 9,
     "metadata": {},
     "output_type": "execute_result"
    }
   ],
   "source": [
    "violation = count_violations(gen)\n",
    "violation"
   ]
  },
  {
   "cell_type": "code",
   "execution_count": null,
   "id": "d5f07c6e",
   "metadata": {},
   "outputs": [],
   "source": []
  }
 ],
 "metadata": {
  "kernelspec": {
   "display_name": "Python 3",
   "language": "python",
   "name": "python3"
  },
  "language_info": {
   "codemirror_mode": {
    "name": "ipython",
    "version": 3
   },
   "file_extension": ".py",
   "mimetype": "text/x-python",
   "name": "python",
   "nbconvert_exporter": "python",
   "pygments_lexer": "ipython3",
   "version": "3.8.8"
  }
 },
 "nbformat": 4,
 "nbformat_minor": 5
}
